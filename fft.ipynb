{
 "cells": [
  {
   "cell_type": "code",
   "execution_count": 1,
   "metadata": {},
   "outputs": [],
   "source": [
    "from pathlib import Path\n",
    "\n",
    "import matplotlib.pyplot as plt\n",
    "import mne\n",
    "import numpy as np\n",
    "import pandas as pd\n",
    "import regex as re\n",
    "import seaborn as sns\n",
    "from scipy.signal import find_peaks\n",
    "\n",
    "from src.data_loader import DataLoader\n",
    "from src.model.measurement import KEEP_COLUMNS, Measurement"
   ]
  },
  {
   "cell_type": "code",
   "execution_count": 2,
   "metadata": {},
   "outputs": [],
   "source": [
    "sns.set_theme()\n"
   ]
  },
  {
   "cell_type": "code",
   "execution_count": 3,
   "metadata": {},
   "outputs": [],
   "source": [
    "FOURIER_SIZE = 1000\n",
    "\n",
    "TRAIN_OUT_FLAT_PATH = Path(f\"out/fft_train_{FOURIER_SIZE}.npy\")\n",
    "TRAIN_OUT_FULL_PATH = Path(f\"out/fft_train_full_{FOURIER_SIZE}.npy\")\n",
    "EVAL_OUT_FLAT_PATH = Path(f\"out/fft_eval_{FOURIER_SIZE}.npy\")\n",
    "EVAL_OUT_FULL_PATH = Path(f\"out/fft_eval_full_{FOURIER_SIZE}.npy\")\n",
    "\n",
    "TRAIN_AGES_PATH = Path(f\"out/fft_train_ages_{FOURIER_SIZE}.npy\")\n",
    "EVAL_AGES_PATH = Path(f\"out/fft_eval_ages_{FOURIER_SIZE}.npy\")\n"
   ]
  },
  {
   "cell_type": "code",
   "execution_count": 4,
   "metadata": {},
   "outputs": [],
   "source": [
    "def get_raw(measurement: Measurement) -> tuple[pd.DataFrame, mne.io.RawArray]:\n",
    "    data = measurement.data\n",
    "\n",
    "    column_map = dict(\n",
    "        zip(\n",
    "            [col for col in data.columns if \"EEG\" in col],\n",
    "            [\n",
    "                re.findall(r\"(?<=EEG\\s)(.+)(?=\\-REF)\", column)[0].lower().capitalize()\n",
    "                for column in data.columns\n",
    "                if \"EEG\" in column\n",
    "            ],\n",
    "        )\n",
    "    )\n",
    "\n",
    "    to_remove = [\"Ekg1\", \"T1\", \"T2\", \"IBI\", \"BURSTS\", \"SUPPR\"]\n",
    "\n",
    "    columns_formatted = []\n",
    "    for column in data[KEEP_COLUMNS].columns:\n",
    "        mapped = column_map.get(column, column)\n",
    "        if mapped in to_remove:\n",
    "            continue\n",
    "\n",
    "        columns_formatted.append(mapped)\n",
    "\n",
    "    mapped_data = data[KEEP_COLUMNS].rename(\n",
    "        columns=dict(zip(data[KEEP_COLUMNS].columns, columns_formatted))\n",
    "    )\n",
    "    mapped_data = mapped_data[columns_formatted]\n",
    "\n",
    "    info = mne.create_info(\n",
    "        ch_names=list(columns_formatted),\n",
    "        sfreq=250,\n",
    "        ch_types=[\"eeg\"] * len(columns_formatted),\n",
    "        verbose=False,\n",
    "    )\n",
    "\n",
    "    raw = mne.io.RawArray(mapped_data.values.T, info, verbose=False)\n",
    "    standard_montage = mne.channels.make_standard_montage(\"standard_1020\")\n",
    "\n",
    "    raw = raw.set_montage(standard_montage, verbose=False).filter(1, 90, verbose=False)\n",
    "\n",
    "    # Filter 50 for European and 60 for American\n",
    "    # 'iir', 'fir', 'fft', 'spectrum_fit'\n",
    "    raw = raw.notch_filter(50, method=\"fft\", verbose=False)  # method=\"spectrum_fit\"\n",
    "    raw = raw.notch_filter(60, method=\"fft\", verbose=False)  # method=\"spectrum_fit\"\n",
    "\n",
    "    return mapped_data, raw\n",
    "\n",
    "\n",
    "def plot_raw(raw: mne.io.RawArray, include_ica: bool = False):\n",
    "    raw.compute_psd().plot()\n",
    "    raw.compute_psd().plot(average=True)\n",
    "    plt.show()\n",
    "\n",
    "    if include_ica:\n",
    "        ica = mne.preprocessing.ICA(n_components=14, random_state=789)\n",
    "        ica.fit(raw.copy().filter(1, None, verbose=False), verbose=False)\n",
    "        ica.plot_properties(raw)\n"
   ]
  },
  {
   "cell_type": "code",
   "execution_count": 5,
   "metadata": {},
   "outputs": [
    {
     "name": "stdout",
     "output_type": "stream",
     "text": [
      "Batch:  1 / 12\n",
      "Batch:  2 / 12\n",
      "Batch:  3 / 12\n",
      "Batch:  4 / 12\n",
      "Batch:  5 / 12\n",
      "Batch:  6 / 12\n",
      "Batch:  7 / 12\n",
      "Batch:  8 / 12\n",
      "Batch:  9 / 12\n",
      "Batch: 10 / 12\n",
      "Batch: 11 / 12\n",
      "Batch: 12 / 12\n",
      "  71 / 71"
     ]
    }
   ],
   "source": [
    "patients = []\n",
    "ages = np.array([])\n",
    "batch_size = 100\n",
    "no_batches = round(DataLoader.train_size / batch_size)\n",
    "for batch_no, measurements in enumerate(DataLoader.get_train_iter(batch_size=100)):\n",
    "    print(f\"\\rBatch: {batch_no + 1:2} / {no_batches}\")\n",
    "\n",
    "    for ind, measurement in enumerate(measurements):\n",
    "        print(f\"\\r{ind + 1:4} / {len(measurements)}\", end=\"\")\n",
    "        _, raw = get_raw(measurement)\n",
    "        fourier = np.fft.fft(raw.get_data().T, n=FOURIER_SIZE, axis=0)\n",
    "\n",
    "        patients.append(fourier)\n",
    "        ages = np.append(ages, measurement.age)\n",
    "\n",
    "patients = np.array(patients)\n"
   ]
  },
  {
   "cell_type": "code",
   "execution_count": 6,
   "metadata": {},
   "outputs": [
    {
     "data": {
      "text/plain": [
       "(1171, 1000, 21)"
      ]
     },
     "execution_count": 6,
     "metadata": {},
     "output_type": "execute_result"
    }
   ],
   "source": [
    "patients.shape\n"
   ]
  },
  {
   "cell_type": "code",
   "execution_count": 7,
   "metadata": {},
   "outputs": [],
   "source": [
    "# Change dtype of ages to int\n",
    "ages = ages.astype(int)\n"
   ]
  },
  {
   "cell_type": "code",
   "execution_count": 8,
   "metadata": {},
   "outputs": [
    {
     "data": {
      "text/plain": [
       "(1171,)"
      ]
     },
     "execution_count": 8,
     "metadata": {},
     "output_type": "execute_result"
    }
   ],
   "source": [
    "ages.shape\n"
   ]
  },
  {
   "cell_type": "code",
   "execution_count": 9,
   "metadata": {},
   "outputs": [],
   "source": [
    "np.save(TRAIN_AGES_PATH, ages)"
   ]
  },
  {
   "cell_type": "code",
   "execution_count": 10,
   "metadata": {},
   "outputs": [
    {
     "data": {
      "text/plain": [
       "(1171, 1000, 21)"
      ]
     },
     "execution_count": 10,
     "metadata": {},
     "output_type": "execute_result"
    }
   ],
   "source": [
    "np.abs(patients).shape"
   ]
  },
  {
   "cell_type": "code",
   "execution_count": 11,
   "metadata": {},
   "outputs": [],
   "source": [
    "np.save(TRAIN_OUT_FULL_PATH, np.abs(patients))\n"
   ]
  },
  {
   "cell_type": "code",
   "execution_count": 12,
   "metadata": {},
   "outputs": [],
   "source": [
    "patients_abs = np.abs(patients).reshape(patients.shape[0], -1)"
   ]
  },
  {
   "cell_type": "code",
   "execution_count": 13,
   "metadata": {},
   "outputs": [
    {
     "data": {
      "text/plain": [
       "(1171, 21000)"
      ]
     },
     "execution_count": 13,
     "metadata": {},
     "output_type": "execute_result"
    }
   ],
   "source": [
    "patients_abs.shape"
   ]
  },
  {
   "cell_type": "code",
   "execution_count": 14,
   "metadata": {},
   "outputs": [],
   "source": [
    "res = np.array([np.hstack((row, age)) for row, age in zip(patients_abs, ages)])\n",
    "np.save(TRAIN_OUT_FLAT_PATH, res)"
   ]
  },
  {
   "cell_type": "code",
   "execution_count": 15,
   "metadata": {},
   "outputs": [
    {
     "name": "stdout",
     "output_type": "stream",
     "text": [
      " 126 / 126"
     ]
    }
   ],
   "source": [
    "patients_eval = []\n",
    "ages_eval = np.array([])\n",
    "measurements = DataLoader.get_eval()\n",
    "for ind, measurement in enumerate(measurements):\n",
    "    print(f\"\\r{ind + 1:4} / {len(measurements)}\", end=\"\")\n",
    "    _, raw = get_raw(measurement)\n",
    "    fourier = np.fft.fft(raw.get_data().T, n=FOURIER_SIZE, axis=0)\n",
    "\n",
    "    patients_eval.append(fourier)\n",
    "    ages_eval = np.append(ages_eval, measurement.age)\n",
    "\n",
    "patients_eval = np.array(patients_eval)\n"
   ]
  },
  {
   "cell_type": "code",
   "execution_count": 16,
   "metadata": {},
   "outputs": [
    {
     "data": {
      "text/plain": [
       "(126, 1000, 21)"
      ]
     },
     "execution_count": 16,
     "metadata": {},
     "output_type": "execute_result"
    }
   ],
   "source": [
    "patients_eval.shape\n"
   ]
  },
  {
   "cell_type": "code",
   "execution_count": 17,
   "metadata": {},
   "outputs": [],
   "source": [
    "np.save(EVAL_OUT_FULL_PATH, np.abs(patients_eval))"
   ]
  },
  {
   "cell_type": "code",
   "execution_count": 18,
   "metadata": {},
   "outputs": [],
   "source": [
    "patients_eval_abs = np.abs(patients_eval).reshape(patients_eval.shape[0], -1)\n"
   ]
  },
  {
   "cell_type": "code",
   "execution_count": 19,
   "metadata": {},
   "outputs": [
    {
     "data": {
      "text/plain": [
       "(126, 21000)"
      ]
     },
     "execution_count": 19,
     "metadata": {},
     "output_type": "execute_result"
    }
   ],
   "source": [
    "patients_eval_abs.shape"
   ]
  },
  {
   "cell_type": "code",
   "execution_count": 20,
   "metadata": {},
   "outputs": [],
   "source": [
    "ages_eval = ages_eval.astype(int)\n"
   ]
  },
  {
   "cell_type": "code",
   "execution_count": 21,
   "metadata": {},
   "outputs": [],
   "source": [
    "np.save(EVAL_AGES_PATH, ages_eval)"
   ]
  },
  {
   "cell_type": "code",
   "execution_count": 22,
   "metadata": {},
   "outputs": [
    {
     "data": {
      "text/plain": [
       "array([69, 80, 78, 42, 34, 60, 28, 28, 47, 20, 40, 47, 89, 40, 26, 30, 30,\n",
       "       45, 80, 81, 59, 62, 37, 67, 67, 55, 22, 48, 44, 26, 47, 42, 54, 53,\n",
       "       39, 54, 39, 38, 51, 50, 31, 37, 23, 62, 52, 44, 88, 62, 24, 49, 50,\n",
       "       38, 41, 39, 24, 63, 30, 47, 64, 35, 32, 19, 25, 44, 25, 65, 68, 43,\n",
       "       46, 18, 19, 31, 58, 31, 33, 54, 74, 23, 62, 25, 58, 53, 38, 28, 49,\n",
       "       24, 59, 37, 68, 26, 83, 32, 66, 35, 35, 47, 26, 43, 41, 70, 19, 23,\n",
       "       25, 34, 65, 79, 56, 58, 31, 48, 58, 43, 61, 29, 48, 71, 62, 43, 36,\n",
       "       36, 55, 52, 81, 22, 21, 66])"
      ]
     },
     "execution_count": 22,
     "metadata": {},
     "output_type": "execute_result"
    }
   ],
   "source": [
    "ages_eval\n"
   ]
  },
  {
   "cell_type": "code",
   "execution_count": 23,
   "metadata": {},
   "outputs": [],
   "source": [
    "res = np.array([np.hstack((row, age)) for row, age in zip(patients_eval_abs, ages_eval)])\n",
    "np.save(EVAL_OUT_FLAT_PATH, res)"
   ]
  }
 ],
 "metadata": {
  "kernelspec": {
   "display_name": "mp",
   "language": "python",
   "name": "python3"
  },
  "language_info": {
   "codemirror_mode": {
    "name": "ipython",
    "version": 3
   },
   "file_extension": ".py",
   "mimetype": "text/x-python",
   "name": "python",
   "nbconvert_exporter": "python",
   "pygments_lexer": "ipython3",
   "version": "3.10.10"
  },
  "orig_nbformat": 4
 },
 "nbformat": 4,
 "nbformat_minor": 2
}
