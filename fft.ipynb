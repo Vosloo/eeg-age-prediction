{
 "cells": [
  {
   "cell_type": "code",
   "execution_count": 1,
   "metadata": {},
   "outputs": [],
   "source": [
    "import matplotlib.pyplot as plt\n",
    "import mne\n",
    "import numpy as np\n",
    "import pandas as pd\n",
    "import regex as re\n",
    "\n",
    "from src.data_loader import DataLoader\n",
    "from src.model.measurement import KEEP_COLUMNS, Measurement"
   ]
  },
  {
   "cell_type": "code",
   "execution_count": 2,
   "metadata": {},
   "outputs": [],
   "source": [
    "FOURIER_SIZE = 10000"
   ]
  },
  {
   "cell_type": "code",
   "execution_count": 3,
   "metadata": {},
   "outputs": [],
   "source": [
    "def get_raw(measurement: Measurement) -> tuple[pd.DataFrame, mne.io.RawArray]:\n",
    "    data = measurement.data\n",
    "\n",
    "    column_map = dict(\n",
    "        zip(\n",
    "            [col for col in data.columns if \"EEG\" in col],\n",
    "            [\n",
    "                re.findall(r\"(?<=EEG\\s)(.+)(?=\\-REF)\", column)[0].lower().capitalize()\n",
    "                for column in data.columns\n",
    "                if \"EEG\" in column\n",
    "            ],\n",
    "        )\n",
    "    )\n",
    "\n",
    "    to_remove = [\"Ekg1\", \"T1\", \"T2\", \"IBI\", \"BURSTS\", \"SUPPR\"]\n",
    "\n",
    "    columns_formatted = []\n",
    "    for column in data[KEEP_COLUMNS].columns:\n",
    "        mapped = column_map.get(column, column)\n",
    "        if mapped in to_remove:\n",
    "            continue\n",
    "\n",
    "        columns_formatted.append(mapped)\n",
    "\n",
    "    mapped_data = data[KEEP_COLUMNS].rename(columns=dict(zip(data[KEEP_COLUMNS].columns, columns_formatted)))\n",
    "    mapped_data = mapped_data[columns_formatted]\n",
    "\n",
    "    info = mne.create_info(\n",
    "        ch_names=list(columns_formatted),\n",
    "        sfreq=250,\n",
    "        ch_types=[\"eeg\"] * len(columns_formatted),\n",
    "        verbose=False\n",
    "    )\n",
    "\n",
    "    raw = mne.io.RawArray(mapped_data.values.T, info, verbose=False)\n",
    "    standard_montage = mne.channels.make_standard_montage(\"standard_1020\")\n",
    "\n",
    "    raw = raw.set_montage(standard_montage, verbose=False).filter(1, 90, verbose=False)\n",
    "\n",
    "    # Filter 50 for European and 60 for American\n",
    "    # 'iir', 'fir', 'fft', 'spectrum_fit'\n",
    "    raw = raw.notch_filter(50, method='fft', verbose=False) # method=\"spectrum_fit\"\n",
    "    raw = raw.notch_filter(60, method='fft', verbose=False) # method=\"spectrum_fit\"\n",
    "\n",
    "    return mapped_data, raw\n",
    "\n",
    "\n",
    "def plot_raw(raw: mne.io.RawArray, include_ica: bool = False):\n",
    "    raw.compute_psd().plot()\n",
    "    raw.compute_psd().plot(average=True)\n",
    "    plt.show()\n",
    "\n",
    "    if include_ica:\n",
    "        ica = mne.preprocessing.ICA(n_components=14, random_state=789)\n",
    "        ica.fit(raw.copy().filter(1, None, verbose=False), verbose=False)\n",
    "        # ica.plot_components()\n",
    "        ica.plot_properties(raw)"
   ]
  },
  {
   "cell_type": "code",
   "execution_count": 4,
   "metadata": {},
   "outputs": [
    {
     "name": "stdout",
     "output_type": "stream",
     "text": [
      "Batch:  1 / 12\n",
      "Batch:  2 / 12\n",
      "Batch:  3 / 12\n",
      "Batch:  4 / 12\n",
      "Batch:  5 / 12\n",
      "Batch:  6 / 12\n",
      "Batch:  7 / 12\n",
      "Batch:  8 / 12\n",
      "Batch:  9 / 12\n",
      "Batch: 10 / 12\n",
      "Batch: 11 / 12\n",
      "Batch: 12 / 12\n",
      "  71 / 71"
     ]
    }
   ],
   "source": [
    "\n",
    "patients = []\n",
    "ages = np.array([])  # 1D array\n",
    "batch_size = 100\n",
    "no_batches = round(DataLoader.train_size / batch_size)\n",
    "for batch_no, measurements in enumerate(DataLoader.get_train_iter(batch_size=100)):\n",
    "    print(f\"\\rBatch: {batch_no + 1:2} / {no_batches}\")\n",
    "\n",
    "    for ind, measurement in enumerate(measurements):\n",
    "        print(f\"\\r{ind + 1:4} / {len(measurements)}\", end=\"\")\n",
    "        _, raw = get_raw(measurement)\n",
    "        fourier = np.fft.fft(raw.get_data().T, n=FOURIER_SIZE, axis=0)\n",
    "\n",
    "        patients.append(fourier)\n",
    "        ages = np.append(ages, measurement.age)\n",
    "\n",
    "patients = np.array(patients)\n"
   ]
  },
  {
   "cell_type": "code",
   "execution_count": 12,
   "metadata": {},
   "outputs": [
    {
     "ename": "AttributeError",
     "evalue": "'tuple' object has no attribute 'reshape'",
     "output_type": "error",
     "traceback": [
      "\u001b[0;31m---------------------------------------------------------------------------\u001b[0m",
      "\u001b[0;31mAttributeError\u001b[0m                            Traceback (most recent call last)",
      "Cell \u001b[0;32mIn[12], line 1\u001b[0m\n\u001b[0;32m----> 1\u001b[0m patients \u001b[39m=\u001b[39m patients\u001b[39m.\u001b[39;49mreshape(\u001b[39m1171\u001b[39m, \u001b[39m10000\u001b[39m, \u001b[39m21\u001b[39m)\n",
      "\u001b[0;31mAttributeError\u001b[0m: 'tuple' object has no attribute 'reshape'"
     ]
    }
   ],
   "source": [
    "patients = patients.reshape(1171, 10000, 21)"
   ]
  },
  {
   "cell_type": "code",
   "execution_count": 11,
   "metadata": {},
   "outputs": [
    {
     "data": {
      "text/plain": [
       "(1171, 10000, 21)"
      ]
     },
     "execution_count": 11,
     "metadata": {},
     "output_type": "execute_result"
    }
   ],
   "source": [
    "patients"
   ]
  },
  {
   "cell_type": "code",
   "execution_count": 6,
   "metadata": {},
   "outputs": [],
   "source": [
    "# Change dtype of ages to int\n",
    "ages = ages.astype(int)"
   ]
  },
  {
   "cell_type": "code",
   "execution_count": 13,
   "metadata": {},
   "outputs": [
    {
     "data": {
      "text/plain": [
       "(1171,)"
      ]
     },
     "execution_count": 13,
     "metadata": {},
     "output_type": "execute_result"
    }
   ],
   "source": [
    "ages.shape"
   ]
  },
  {
   "cell_type": "code",
   "execution_count": null,
   "metadata": {},
   "outputs": [],
   "source": [
    "# Get modulus of complex numbers from rows\n",
    "rows_with_age = np.array([np.hstack((np.abs(row), age)) for row, age in zip(patients, ages)])"
   ]
  },
  {
   "cell_type": "code",
   "execution_count": null,
   "metadata": {},
   "outputs": [],
   "source": [
    "rows_eval = np.array([])\n",
    "ages_eval = np.array([])\n",
    "measurements = DataLoader.get_eval()\n",
    "for ind, measurement in enumerate(measurements):\n",
    "    print(f\"\\r{ind + 1:4} / {len(measurements)}\", end=\"\")\n",
    "    _, raw = get_raw(measurement)\n",
    "    fourier = np.fft.fft2(raw.get_data().T, s=(FOURIER_SIZE, 1))\n",
    "\n",
    "    rows_eval = np.vstack((rows_eval, fourier)) if rows_eval.size else fourier\n",
    "    ages_eval = np.append(ages_eval, measurement.age)"
   ]
  },
  {
   "cell_type": "code",
   "execution_count": null,
   "metadata": {},
   "outputs": [],
   "source": [
    "rows_eval.shape"
   ]
  },
  {
   "cell_type": "code",
   "execution_count": null,
   "metadata": {},
   "outputs": [],
   "source": [
    "rows_eval_up = rows_eval.reshape(-1, 10000)\n"
   ]
  },
  {
   "cell_type": "code",
   "execution_count": null,
   "metadata": {},
   "outputs": [],
   "source": [
    "ages_eval = ages_eval.astype(int)\n"
   ]
  },
  {
   "cell_type": "code",
   "execution_count": null,
   "metadata": {},
   "outputs": [],
   "source": [
    "ages_eval"
   ]
  },
  {
   "cell_type": "code",
   "execution_count": null,
   "metadata": {},
   "outputs": [],
   "source": [
    "rows_with_age_eval = np.hstack((np.abs(rows_eval_up), np.angle(rows_eval_up), ages_eval.reshape(-1, 1)))\n",
    "pd.DataFrame(rows_with_age_eval).to_csv(\"out/fft_eval_full.csv\", index=False)"
   ]
  },
  {
   "cell_type": "code",
   "execution_count": null,
   "metadata": {},
   "outputs": [],
   "source": [
    "pd.read_csv(\"out/fft_eval_full.csv\")"
   ]
  },
  {
   "cell_type": "code",
   "execution_count": null,
   "metadata": {},
   "outputs": [],
   "source": []
  }
 ],
 "metadata": {
  "kernelspec": {
   "display_name": "mp",
   "language": "python",
   "name": "python3"
  },
  "language_info": {
   "codemirror_mode": {
    "name": "ipython",
    "version": 3
   },
   "file_extension": ".py",
   "mimetype": "text/x-python",
   "name": "python",
   "nbconvert_exporter": "python",
   "pygments_lexer": "ipython3",
   "version": "3.10.10"
  },
  "orig_nbformat": 4
 },
 "nbformat": 4,
 "nbformat_minor": 2
}
